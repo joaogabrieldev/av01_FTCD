{
  "nbformat": 4,
  "nbformat_minor": 0,
  "metadata": {
    "colab": {
      "name": "Avaliacao01.ipynb",
      "provenance": [],
      "collapsed_sections": [],
      "authorship_tag": "ABX9TyOiVw9Ul9MIfeDRZUn7Lkjb",
      "include_colab_link": true
    },
    "kernelspec": {
      "name": "python3",
      "display_name": "Python 3"
    },
    "language_info": {
      "name": "python"
    }
  },
  "cells": [
    {
      "cell_type": "markdown",
      "metadata": {
        "id": "view-in-github",
        "colab_type": "text"
      },
      "source": [
        "<a href=\"https://colab.research.google.com/github/joaogabrieldev/av01_FTCD/blob/main/Avaliacao01.ipynb\" target=\"_parent\"><img src=\"https://colab.research.google.com/assets/colab-badge.svg\" alt=\"Open In Colab\"/></a>"
      ]
    },
    {
      "cell_type": "markdown",
      "source": [
        "# Contextualização\n",
        "O trabalho tem a proposta de reunir informações sobre hostels, hostel é um tipo de acomodação onde você divide o quarto com mais uma galera, fazendo a hospedagem ser bem mais em conta do que um hotel tradicional. A ideia vai ser capturar informações sobre eles, tiradas do site *hostelworld* e **entender o faz um hostel ser melhor que o outro**, a região que iremos utilizar será na França mais precisamente na cidade de Paris, uma cidade rica em turistas e com uma enorme quantidade de hostels disponiveis para análise.\n",
        "\n",
        "\n"
      ],
      "metadata": {
        "id": "23B8DZr9PBbp"
      }
    },
    {
      "cell_type": "markdown",
      "source": [
        "# Avaliação 01 - Fundamentos em Ciências de Dados"
      ],
      "metadata": {
        "id": "BjIuHUCwKo9y"
      }
    },
    {
      "cell_type": "code",
      "source": [
        "# Instalação das bibliotecas\n",
        "from requests import get\n",
        "from bs4 import BeautifulSoup\n",
        "\n",
        "import pandas as pd\n",
        "import numpy as np\n",
        "\n",
        "import time\n",
        "import re"
      ],
      "metadata": {
        "id": "h8VZIjDfCrNV"
      },
      "execution_count": 2,
      "outputs": []
    },
    {
      "cell_type": "code",
      "source": [
        "# Capturando a url do site\n",
        "url = 'https://www.hostelworld.com/hostels/Paris'\n",
        "response = get(url)"
      ],
      "metadata": {
        "id": "C-nNhgrNCyK_"
      },
      "execution_count": 3,
      "outputs": []
    },
    {
      "cell_type": "code",
      "source": [
        "# Criando o objeto soup \n",
        "soup = BeautifulSoup(response.text, 'html.parser')"
      ],
      "metadata": {
        "id": "TYAadNqGMl_I"
      },
      "execution_count": 4,
      "outputs": []
    },
    {
      "cell_type": "code",
      "source": [
        "# Armazenando todos os containers individuais dos hosteis\n",
        "holstel_containers = soup.findAll(class_= 'fabresult rounded clearfix hwta-property')"
      ],
      "metadata": {
        "id": "pKr169VeMn13"
      },
      "execution_count": 5,
      "outputs": []
    },
    {
      "cell_type": "code",
      "source": [
        "# Contabilizando a quantidade de hosteis em uma unica página\n",
        "len(holstel_containers)"
      ],
      "metadata": {
        "id": "5UIuc6TPCo5K",
        "colab": {
          "base_uri": "https://localhost:8080/"
        },
        "outputId": "273bf231-d35a-48eb-c1d9-f37c0093a04e"
      },
      "execution_count": 6,
      "outputs": [
        {
          "output_type": "execute_result",
          "data": {
            "text/plain": [
              "30"
            ]
          },
          "metadata": {},
          "execution_count": 6
        }
      ]
    },
    {
      "cell_type": "code",
      "source": [
        "# verificando o nome do primeiro hostel\n",
        "first_hostel = holstel_containers[0]\n",
        "first_hostel.h2.a.text"
      ],
      "metadata": {
        "colab": {
          "base_uri": "https://localhost:8080/",
          "height": 36
        },
        "id": "S5mEJ6RBDCy4",
        "outputId": "a94d77f2-fe62-4f21-be2a-4b7163bab7f0"
      },
      "execution_count": 7,
      "outputs": [
        {
          "output_type": "execute_result",
          "data": {
            "application/vnd.google.colaboratory.intrinsic+json": {
              "type": "string"
            },
            "text/plain": [
              "'JO&JOE Paris - Gentilly'"
            ]
          },
          "metadata": {},
          "execution_count": 7
        }
      ]
    },
    {
      "cell_type": "code",
      "source": [
        "# Criando as listas de propriedades dos hosteis\n",
        "hostel_names = []\n",
        "hostel_links = []\n",
        "hostel_distance = []\n",
        "hostel_ratings = []\n",
        "hostel_reviews = []\n",
        "hostel_prices = []"
      ],
      "metadata": {
        "id": "g0Sx0w3MDKwq"
      },
      "execution_count": 8,
      "outputs": []
    },
    {
      "cell_type": "code",
      "source": [
        "# Interando sobre a quantidade total de paginas da busca e capturando os containers\n",
        "for page in np.arange(1,4): \n",
        "  url = 'https://www.hostelworld.com/hostels/Paris?page=' + str(page)\n",
        "  response = get(url)\n",
        "  soup = BeautifulSoup(response.text, 'html.parser')\n",
        "  holstel_containers = soup.findAll(class_= 'fabresult rounded clearfix hwta-property')\n",
        " \n",
        "  # Interando sobre os resultados de cada página\n",
        "  for item in range(len(holstel_containers)): \n",
        "    hostel_names.append(holstel_containers[item].h2.a.text)\n",
        "    hostel_links.append(holstel_containers[item].h2.a.get('href'))\n",
        "    hostel_distance.append(holstel_containers[item].find(class_= \"addressline\").text[12:18].replace('k','').replace('m','').strip())\n",
        "    hostel_ratings.append(holstel_containers[item].find(class_='hwta-rating-score').text.replace('\\n', '').strip())\n",
        "    hostel_reviews.append(holstel_containers[item].find(class_=\"hwta-rating-counter\").text.replace('\\n', '').strip())\n",
        "    hostel_prices.append(holstel_containers[item].find(class_= \"price\").text.replace('\\n', '').strip()[3:])                          \n",
        "  # Usado para não forçar muito o site\n",
        "  time.sleep(2)\n"
      ],
      "metadata": {
        "id": "nimlOodLDXjx"
      },
      "execution_count": 9,
      "outputs": []
    },
    {
      "cell_type": "code",
      "source": [
        "# Criando o dataframe dos hosteis \n",
        "hostels_paris = pd.DataFrame({\n",
        "    'hostel_name': hostel_names,\n",
        "    'distance_centre_km': hostel_distance,\n",
        "    'average_rating': hostel_ratings,\n",
        "    'number_reviews': hostel_reviews,\n",
        "    'average_price_usd': hostel_prices,\n",
        "    'hw_link': hostel_links\n",
        "})"
      ],
      "metadata": {
        "id": "ugSgUsLUDgvn"
      },
      "execution_count": 10,
      "outputs": []
    },
    {
      "cell_type": "code",
      "source": [
        "# Vizualizando o dataframe\n",
        "hostels_paris"
      ],
      "metadata": {
        "id": "kHiBOz47EDcE",
        "colab": {
          "base_uri": "https://localhost:8080/",
          "height": 458
        },
        "outputId": "751d0e1c-6f95-43ca-8296-06b4184a4bc2"
      },
      "execution_count": 11,
      "outputs": [
        {
          "output_type": "execute_result",
          "data": {
            "text/html": [
              "<div>\n",
              "<style scoped>\n",
              "    .dataframe tbody tr th:only-of-type {\n",
              "        vertical-align: middle;\n",
              "    }\n",
              "\n",
              "    .dataframe tbody tr th {\n",
              "        vertical-align: top;\n",
              "    }\n",
              "\n",
              "    .dataframe thead th {\n",
              "        text-align: right;\n",
              "    }\n",
              "</style>\n",
              "<table border=\"1\" class=\"dataframe\">\n",
              "  <thead>\n",
              "    <tr style=\"text-align: right;\">\n",
              "      <th></th>\n",
              "      <th>hostel_name</th>\n",
              "      <th>distance_centre_km</th>\n",
              "      <th>average_rating</th>\n",
              "      <th>number_reviews</th>\n",
              "      <th>average_price_usd</th>\n",
              "      <th>hw_link</th>\n",
              "    </tr>\n",
              "  </thead>\n",
              "  <tbody>\n",
              "    <tr>\n",
              "      <th>0</th>\n",
              "      <td>JO&amp;JOE Paris - Gentilly</td>\n",
              "      <td>5.6</td>\n",
              "      <td>8.6</td>\n",
              "      <td>1431</td>\n",
              "      <td>28.28</td>\n",
              "      <td>https://www.hostelworld.com/hosteldetails.php/...</td>\n",
              "    </tr>\n",
              "    <tr>\n",
              "      <th>1</th>\n",
              "      <td>St Christopher's Inn Gare du Nord</td>\n",
              "      <td>2.3</td>\n",
              "      <td>8.2</td>\n",
              "      <td>16672</td>\n",
              "      <td>27.04</td>\n",
              "      <td>https://www.hostelworld.com/hosteldetails.php/...</td>\n",
              "    </tr>\n",
              "    <tr>\n",
              "      <th>2</th>\n",
              "      <td>Generator Paris</td>\n",
              "      <td>3 fr</td>\n",
              "      <td>8.1</td>\n",
              "      <td>5905</td>\n",
              "      <td>24.89</td>\n",
              "      <td>https://www.hostelworld.com/hosteldetails.php/...</td>\n",
              "    </tr>\n",
              "    <tr>\n",
              "      <th>3</th>\n",
              "      <td>Caulaincourt Montmartre by Hiphophostels</td>\n",
              "      <td>2.6</td>\n",
              "      <td>9.0</td>\n",
              "      <td>5563</td>\n",
              "      <td>31.68</td>\n",
              "      <td>https://www.hostelworld.com/hosteldetails.php/...</td>\n",
              "    </tr>\n",
              "    <tr>\n",
              "      <th>4</th>\n",
              "      <td>St Christopher's Inn Canal</td>\n",
              "      <td>4.1</td>\n",
              "      <td>8.2</td>\n",
              "      <td>21253</td>\n",
              "      <td>24.78</td>\n",
              "      <td>https://www.hostelworld.com/hosteldetails.php/...</td>\n",
              "    </tr>\n",
              "    <tr>\n",
              "      <th>...</th>\n",
              "      <td>...</td>\n",
              "      <td>...</td>\n",
              "      <td>...</td>\n",
              "      <td>...</td>\n",
              "      <td>...</td>\n",
              "      <td>...</td>\n",
              "    </tr>\n",
              "    <tr>\n",
              "      <th>85</th>\n",
              "      <td>Hotel de l'Exposition</td>\n",
              "      <td>2.2</td>\n",
              "      <td>0.0</td>\n",
              "      <td>1</td>\n",
              "      <td>50.54</td>\n",
              "      <td>https://www.hostelworld.com/hosteldetails.php/...</td>\n",
              "    </tr>\n",
              "    <tr>\n",
              "      <th>86</th>\n",
              "      <td>Hotel Opera Vivaldi 3***</td>\n",
              "      <td>0.6</td>\n",
              "      <td>0.0</td>\n",
              "      <td>7</td>\n",
              "      <td>67.88</td>\n",
              "      <td>https://www.hostelworld.com/hosteldetails.php/...</td>\n",
              "    </tr>\n",
              "    <tr>\n",
              "      <th>87</th>\n",
              "      <td>Hotel Chemin Vert</td>\n",
              "      <td>3.5</td>\n",
              "      <td>8.0</td>\n",
              "      <td>11</td>\n",
              "      <td>44.69</td>\n",
              "      <td>https://www.hostelworld.com/hosteldetails.php/...</td>\n",
              "    </tr>\n",
              "    <tr>\n",
              "      <th>88</th>\n",
              "      <td>Hotel Audran</td>\n",
              "      <td>2.1</td>\n",
              "      <td>0.0</td>\n",
              "      <td>38</td>\n",
              "      <td>36.20</td>\n",
              "      <td>https://www.hostelworld.com/hosteldetails.php/...</td>\n",
              "    </tr>\n",
              "    <tr>\n",
              "      <th>89</th>\n",
              "      <td>Hotel Avama Prony</td>\n",
              "      <td>3.2</td>\n",
              "      <td>0.0</td>\n",
              "      <td>0</td>\n",
              "      <td>70.14</td>\n",
              "      <td>https://www.hostelworld.com/hosteldetails.php/...</td>\n",
              "    </tr>\n",
              "  </tbody>\n",
              "</table>\n",
              "<p>90 rows × 6 columns</p>\n",
              "</div>"
            ],
            "text/plain": [
              "                                 hostel_name  ...                                            hw_link\n",
              "0                    JO&JOE Paris - Gentilly  ...  https://www.hostelworld.com/hosteldetails.php/...\n",
              "1          St Christopher's Inn Gare du Nord  ...  https://www.hostelworld.com/hosteldetails.php/...\n",
              "2                            Generator Paris  ...  https://www.hostelworld.com/hosteldetails.php/...\n",
              "3   Caulaincourt Montmartre by Hiphophostels  ...  https://www.hostelworld.com/hosteldetails.php/...\n",
              "4                 St Christopher's Inn Canal  ...  https://www.hostelworld.com/hosteldetails.php/...\n",
              "..                                       ...  ...                                                ...\n",
              "85                     Hotel de l'Exposition  ...  https://www.hostelworld.com/hosteldetails.php/...\n",
              "86                  Hotel Opera Vivaldi 3***  ...  https://www.hostelworld.com/hosteldetails.php/...\n",
              "87                         Hotel Chemin Vert  ...  https://www.hostelworld.com/hosteldetails.php/...\n",
              "88                              Hotel Audran  ...  https://www.hostelworld.com/hosteldetails.php/...\n",
              "89                         Hotel Avama Prony  ...  https://www.hostelworld.com/hosteldetails.php/...\n",
              "\n",
              "[90 rows x 6 columns]"
            ]
          },
          "metadata": {},
          "execution_count": 11
        }
      ]
    },
    {
      "cell_type": "code",
      "source": [
        "# Salvando em .CSV\n",
        "\n",
        "hostels_paris.to_csv('hostels_paris.csv',encoding='UTF-8',index=False)\n"
      ],
      "metadata": {
        "id": "gO0Gyz1Hvfqi"
      },
      "execution_count": 17,
      "outputs": []
    }
  ]
}